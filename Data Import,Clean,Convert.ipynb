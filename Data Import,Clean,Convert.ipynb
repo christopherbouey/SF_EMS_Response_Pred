{
 "cells": [
  {
   "cell_type": "code",
   "execution_count": 1,
   "metadata": {},
   "outputs": [],
   "source": [
    "import matplotlib.pyplot as plt\n",
    "%matplotlib inline\n",
    "import numpy as np\n",
    "import pandas as pd\n",
    "import random\n",
    "from pandas.plotting import register_matplotlib_converters\n",
    "register_matplotlib_converters()\n",
    "from datetime import timedelta\n",
    "import seaborn as sns"
   ]
  },
  {
   "cell_type": "code",
   "execution_count": 2,
   "metadata": {},
   "outputs": [],
   "source": [
    "def pd_dttm_import(want_cols):\n",
    "    '''Parameters: takes in list of column names wanted that will be\n",
    "    used in pandas .read_csv method\n",
    "    \n",
    "    Results: Outputs the indices of the columns names that are date\n",
    "    values and uses resulting list of indices as parse_dates parameter\n",
    "    in pandas .read_csv method'''\n",
    "    dt_ind = []\n",
    "    for i in want_cols:\n",
    "        if 'dttm' in i.lower() or 'date' in i.lower():\n",
    "            dt_ind.append(want_cols.index(i))\n",
    "    return dt_ind\n",
    "\n",
    "def to_time_delta_by_col(df, col, time2, time1):\n",
    "    '''create new copy of data frame taking only not null values - to be used when wanting times matched up with\n",
    "    single other column\n",
    "    '''\n",
    "    #create new copy of data frame taking only not null values\n",
    "    df_ind = df[df[time1].notna() & df[time2].notna()]\n",
    "    frame = pd.DataFrame(df_ind[col])\n",
    "    frame['time_delta'] = (df_ind[time2] - df_ind[time1]).apply(lambda x: timedelta.total_seconds(x))\n",
    "    return frame\n",
    "\n",
    "def to_time_delta(df, time2, time1):\n",
    "    '''Return series of difference between two datetime columns\n",
    "    '''\n",
    "    #create new copy of data frame taking only not null values\n",
    "    return (df[time2] - df[time1]).apply(lambda x: timedelta.total_seconds(x) if not isinstance(x, pd._libs.tslibs.nattype.NaTType) else None)"
   ]
  },
  {
   "cell_type": "code",
   "execution_count": 3,
   "metadata": {},
   "outputs": [],
   "source": [
    "col_of_interest = ['Call Number', 'Unit ID', 'Call Type',\n",
    "       'Call Date', 'Received DtTm', 'Dispatch DtTm', 'Response DtTm', 'On Scene DtTm', 'Transport DtTm',\n",
    "       'Hospital DtTm', 'Call Final Disposition', 'Available DtTm', 'Battalion', \n",
    "       'Final Priority', 'ALS Unit',\n",
    "       'Call Type Group', 'Unit Type',\n",
    "       'Neighborhooods - Analysis Boundaries']"
   ]
  },
  {
   "cell_type": "code",
   "execution_count": 4,
   "metadata": {},
   "outputs": [
    {
     "name": "stderr",
     "output_type": "stream",
     "text": [
      "/home/christopher/anaconda3/lib/python3.7/site-packages/IPython/core/interactiveshell.py:3058: DtypeWarning: Columns (26) have mixed types. Specify dtype option on import or set low_memory=False.\n",
      "  interactivity=interactivity, compiler=compiler, result=result)\n"
     ]
    },
    {
     "name": "stdout",
     "output_type": "stream",
     "text": [
      "Number of entries: 5324768\n"
     ]
    }
   ],
   "source": [
    "df = pd.read_csv('EMS_data.csv', usecols=col_of_interest, parse_dates=pd_dttm_import(col_of_interest))\n",
    "#df = pd.read_csv('EMS_data.csv', usecols=col_of_interest, parse_dates=pd_dttm_import(col_of_interest))\n",
    "orig_size = len(df)\n",
    "print(f'Number of entries: {orig_size}')"
   ]
  },
  {
   "cell_type": "code",
   "execution_count": 5,
   "metadata": {},
   "outputs": [
    {
     "name": "stdout",
     "output_type": "stream",
     "text": [
      "Number of entries where Received DtTm is NaN: 0\n",
      "Number of entries where Dispatch DtTm is NaN: 0\n",
      "Number of entries where Response DtTm is NaN: 417166\n",
      "Number of entries where On Scene DtTm is NaN: 1201775\n",
      "Proportion of data where neigh is None: 0.0013464225065687055\n"
     ]
    }
   ],
   "source": [
    "#change data type of neighborhoods column\n",
    "df['Neighborhooods - Analysis Boundaries'] = df['Neighborhooods - Analysis Boundaries'].astype(str)\n",
    "#drop rows where any of the of-interest time data is NaN\n",
    "#comfortable dropping this because if any is missing it suggests that the call led to no interaction with EMS\n",
    "for i in ['Received DtTm', 'Dispatch DtTm', 'Response DtTm', 'On Scene DtTm']:\n",
    "    print(f'Number of entries where {i} is NaN: {len(df[df[i].isnull()])}')\n",
    "df.dropna(axis = 0, how = 'any', subset = ['Received DtTm', 'Dispatch DtTm', 'Response DtTm', 'On Scene DtTm'], inplace=True)\n",
    "#check percentage of remaining data that has neighborhood value of 'None' and drop those rows - validate decision based on percentage\n",
    "a = len(df[df['Neighborhooods - Analysis Boundaries'] == 'None'])/len(df)\n",
    "print(f'Proportion of data where neigh is None: {a}')\n",
    "df = df[df['Neighborhooods - Analysis Boundaries'] != 'None']"
   ]
  },
  {
   "cell_type": "code",
   "execution_count": 6,
   "metadata": {},
   "outputs": [],
   "source": [
    "df['call_to_disp'] = to_time_delta(df,'Dispatch DtTm', 'Received DtTm')\n",
    "df['disp_to_resp'] = to_time_delta(df, 'Response DtTm','Dispatch DtTm')\n",
    "df['resp_to_scene'] = to_time_delta(df, 'On Scene DtTm','Response DtTm')\n",
    "df['time_to_hosp'] = to_time_delta(df, 'Hospital DtTm', 'Transport DtTm')\n",
    "times = ['call_to_disp','disp_to_resp','resp_to_scene','time_to_hosp','call_to_scene']"
   ]
  },
  {
   "cell_type": "code",
   "execution_count": 7,
   "metadata": {},
   "outputs": [
    {
     "name": "stdout",
     "output_type": "stream",
     "text": [
      "call_to_disp values over 7200: 751\n",
      "disp_to_resp values over 7200: 625\n",
      "resp_to_scene values over 7200: 314\n",
      "time_to_hosp values over 7200: 29\n",
      "Total : 1719     | Percentage of Total: 0.04%\n"
     ]
    },
    {
     "name": "stderr",
     "output_type": "stream",
     "text": [
      "/home/christopher/anaconda3/lib/python3.7/site-packages/ipykernel_launcher.py:11: SettingWithCopyWarning: \n",
      "A value is trying to be set on a copy of a slice from a DataFrame\n",
      "\n",
      "See the caveats in the documentation: http://pandas.pydata.org/pandas-docs/stable/user_guide/indexing.html#returning-a-view-versus-a-copy\n",
      "  # This is added back by InteractiveShellApp.init_path()\n",
      "/home/christopher/anaconda3/lib/python3.7/site-packages/ipykernel_launcher.py:12: SettingWithCopyWarning: \n",
      "A value is trying to be set on a copy of a slice from a DataFrame\n",
      "\n",
      "See the caveats in the documentation: http://pandas.pydata.org/pandas-docs/stable/user_guide/indexing.html#returning-a-view-versus-a-copy\n",
      "  if sys.path[0] == '':\n"
     ]
    }
   ],
   "source": [
    "#convert any negative time values to None (assume user error in this case)\n",
    "#0's suggest unusable time data, but still relevant count\n",
    "#convert any values over 7200 (2 hours) to None, assuming user error in this case as well\n",
    "tot = 0\n",
    "for col in ['call_to_disp','disp_to_resp','resp_to_scene','time_to_hosp']:\n",
    "    num = len(df[df[col] > 7200])\n",
    "    print(f'{col} values over 7200: {num}')\n",
    "    tot += num\n",
    "print(f'Total : {tot}     | Percentage of Total: {tot/len(df)*100:.2f}%')\n",
    "for col in ['call_to_disp','disp_to_resp','resp_to_scene','time_to_hosp']:\n",
    "    df[col][df[col] <= 0] = None\n",
    "    df[col][df[col] > 7200] = None\n",
    "\n",
    "\n"
   ]
  },
  {
   "cell_type": "code",
   "execution_count": 8,
   "metadata": {},
   "outputs": [],
   "source": [
    "df['call_to_scene'] = df['call_to_disp']+df['disp_to_resp']+df['resp_to_scene']"
   ]
  },
  {
   "cell_type": "code",
   "execution_count": 9,
   "metadata": {},
   "outputs": [
    {
     "data": {
      "text/plain": [
       "3926607"
      ]
     },
     "execution_count": 9,
     "metadata": {},
     "output_type": "execute_result"
    }
   ],
   "source": [
    "len(df)"
   ]
  },
  {
   "cell_type": "code",
   "execution_count": 10,
   "metadata": {},
   "outputs": [],
   "source": [
    "df.to_csv('Time_Delta_Data_Fin')"
   ]
  },
  {
   "cell_type": "code",
   "execution_count": null,
   "metadata": {},
   "outputs": [],
   "source": []
  }
 ],
 "metadata": {
  "kernelspec": {
   "display_name": "Python 3",
   "language": "python",
   "name": "python3"
  },
  "language_info": {
   "codemirror_mode": {
    "name": "ipython",
    "version": 3
   },
   "file_extension": ".py",
   "mimetype": "text/x-python",
   "name": "python",
   "nbconvert_exporter": "python",
   "pygments_lexer": "ipython3",
   "version": "3.7.4"
  }
 },
 "nbformat": 4,
 "nbformat_minor": 2
}
